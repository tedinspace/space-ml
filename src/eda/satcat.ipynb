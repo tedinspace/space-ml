{
 "cells": [
  {
   "cell_type": "code",
   "execution_count": 1,
   "id": "c7cfe1a8",
   "metadata": {},
   "outputs": [],
   "source": [
    "# === Mandatory Header ===\n",
    "import sys\n",
    "LEVEL = '../'\n",
    "sys.path.append(LEVEL)\n",
    "# =========================\n",
    "\n",
    "# imports \n",
    "import matplotlib.pyplot as plt\n",
    "from util.load import load_satcat_by_date"
   ]
  },
  {
   "cell_type": "markdown",
   "id": "35e74885",
   "metadata": {},
   "source": [
    "## SatCat Exploratory Data Analysis (EDA)\n",
    "\n",
    "The Satellite Catalog (SatCat) provides a comprehensive history of every unclassified object that has ever existed in Earth's orbit. This includes objects that have re-entered the atmosphere (splashdowns or burn-ups) or have been retired.\n",
    "\n",
    "Each entry in the SatCat contains 24 columns of information per object:\n",
    "\n",
    "<table>\n",
    "<tbody>\n",
    "    <tr><th>Field</th><th>Description</th><th>Notes</th></tr>\n",
    "    <tr><td>INTLDES</td><td>Can be used to uniquely identify an object using launch year, number, and piece</td><td>Also known as COSPAR designation or NSSDC ID</td></tr>\n",
    "    <tr><td>NORAD_CAT_ID</td><td>Sequential number assigned by the US Space Force as objects are cataloged</td><td>This is the most common way of identifying a satellite</td></tr>\n",
    "    <tr><td>OBJECT_TYPE</td><td>Identifies the kind of object it is</td><td>Choices: 'ROCKET BODY', 'PAYLOAD', 'DEBRIS', 'UNKNOWN'</td></tr>\n",
    "    <tr><td>SATNAME</td><td>Name associated with the satellite</td><td></td></tr>\n",
    "    <tr><td>COUNTRY</td><td>The nation or group responsible for the object</td><td></td></tr>\n",
    "    <tr><td>LAUNCH</td><td>Date of launch</td><td>Format: YYYY-MM-DD</td></tr>\n",
    "    <tr><td>SITE</td><td>Location/site of launch</td><td></td></tr>\n",
    "    <tr><td>DECAY</td><td>Date that the object decayed; NaN if the object has not yet decayed</td><td></td></tr>\n",
    "    <tr><td>PERIOD</td><td>The number of minutes an object takes to complete one full orbit</td><td>Generally wise to use the most recent state for this information</td></tr>\n",
    "    <tr><td>INCLINATION</td><td>The angle between the equator and the orbital plane</td><td>Generally wise to use the most recent state for this information</td></tr>\n",
    "    <tr><td>APOGEE</td><td>Point in the orbit where an Earth satellite is farthest from the Earth (kilometers)</td><td>Generally wise to use the most recent state for this information</td></tr>\n",
    "    <tr><td>PERIGEE</td><td>Point in the orbit where an Earth satellite is closest to the Earth (kilometers)</td><td>Generally wise to use the most recent state for this information</td></tr>\n",
    "    <tr><td>COMMENT</td><td>Very rare; sometimes objects have a string with notes</td><td></td></tr>\n",
    "    <tr><td>COMMENTCODE</td><td>Usually NaN; otherwise a number associated with COMMENT</td><td></td></tr>\n",
    "    <tr><td>RCSVALUE</td><td>(HIDDEN) Always zero</td><td>Higher data access needed to get exact values</td></tr>\n",
    "    <tr><td>RCS_SIZE</td><td>Vague description of object size</td><td>Values: 'LARGE', 'MEDIUM', 'SMALL', or NaN</td></tr>\n",
    "    <tr><td>FILE</td><td>Unique identifying number of the source file for an object's data; higher numbers are more recent uploads</td><td></td></tr>\n",
    "    <tr><td>LAUNCH_YEAR</td><td>Year of launch (YYYY)</td><td></td></tr>\n",
    "    <tr><td>LAUNCH_NUM</td><td>Launch number</td><td></td></tr>\n",
    "    <tr><td>LAUNCH_PIECE</td><td>Three-letter code representing the sequential identifier of a piece in a launch</td><td></td></tr>\n",
    "    <tr><td>CURRENT</td><td>Documentation is unclear, but the value is always 'Y' for general access</td><td></td></tr>\n",
    "    <tr><td>OBJECT_NAME</td><td>Name of the object</td><td>identical to SATNAME</td></tr>\n",
    "    <tr><td>OBJECT_ID</td><td>Unique identifier for the object</td><td>identical to INTLDES</td></tr>\n",
    "    <tr><td>OBJECT_NUMBER</td><td>Unique identifier for the object</td><td>identical to NORAD_CAT_ID</td></tr>\n",
    "</tbody>\n",
    "</table>\n"
   ]
  },
  {
   "cell_type": "markdown",
   "id": "68d4c2f6",
   "metadata": {},
   "source": [
    "---\n",
    "### Load Data \n",
    "---"
   ]
  },
  {
   "cell_type": "code",
   "execution_count": 2,
   "id": "8224dab2",
   "metadata": {},
   "outputs": [],
   "source": [
    "df_satcat = load_satcat_by_date('24May2025')"
   ]
  },
  {
   "cell_type": "markdown",
   "id": "be9acf73",
   "metadata": {},
   "source": [
    "---\n",
    "### High Level Look\n",
    "---"
   ]
  },
  {
   "cell_type": "code",
   "execution_count": 3,
   "id": "beefddd3",
   "metadata": {},
   "outputs": [
    {
     "data": {
      "text/html": [
       "<div>\n",
       "<style scoped>\n",
       "    .dataframe tbody tr th:only-of-type {\n",
       "        vertical-align: middle;\n",
       "    }\n",
       "\n",
       "    .dataframe tbody tr th {\n",
       "        vertical-align: top;\n",
       "    }\n",
       "\n",
       "    .dataframe thead th {\n",
       "        text-align: right;\n",
       "    }\n",
       "</style>\n",
       "<table border=\"1\" class=\"dataframe\">\n",
       "  <thead>\n",
       "    <tr style=\"text-align: right;\">\n",
       "      <th></th>\n",
       "      <th>INTLDES</th>\n",
       "      <th>NORAD_CAT_ID</th>\n",
       "      <th>OBJECT_TYPE</th>\n",
       "      <th>SATNAME</th>\n",
       "      <th>COUNTRY</th>\n",
       "      <th>LAUNCH</th>\n",
       "      <th>SITE</th>\n",
       "      <th>DECAY</th>\n",
       "      <th>PERIOD</th>\n",
       "      <th>INCLINATION</th>\n",
       "      <th>...</th>\n",
       "      <th>RCSVALUE</th>\n",
       "      <th>RCS_SIZE</th>\n",
       "      <th>FILE</th>\n",
       "      <th>LAUNCH_YEAR</th>\n",
       "      <th>LAUNCH_NUM</th>\n",
       "      <th>LAUNCH_PIECE</th>\n",
       "      <th>CURRENT</th>\n",
       "      <th>OBJECT_NAME</th>\n",
       "      <th>OBJECT_ID</th>\n",
       "      <th>OBJECT_NUMBER</th>\n",
       "    </tr>\n",
       "  </thead>\n",
       "  <tbody>\n",
       "    <tr>\n",
       "      <th>0</th>\n",
       "      <td>1957-001A</td>\n",
       "      <td>1</td>\n",
       "      <td>ROCKET BODY</td>\n",
       "      <td>SL-1 R/B</td>\n",
       "      <td>CIS</td>\n",
       "      <td>1957-10-04</td>\n",
       "      <td>TTMTR</td>\n",
       "      <td>1957-12-01</td>\n",
       "      <td>96.19</td>\n",
       "      <td>65.10</td>\n",
       "      <td>...</td>\n",
       "      <td>0</td>\n",
       "      <td>LARGE</td>\n",
       "      <td>1</td>\n",
       "      <td>1957</td>\n",
       "      <td>1</td>\n",
       "      <td>A</td>\n",
       "      <td>Y</td>\n",
       "      <td>SL-1 R/B</td>\n",
       "      <td>1957-001A</td>\n",
       "      <td>1</td>\n",
       "    </tr>\n",
       "    <tr>\n",
       "      <th>1</th>\n",
       "      <td>1958-001A</td>\n",
       "      <td>4</td>\n",
       "      <td>PAYLOAD</td>\n",
       "      <td>EXPLORER 1</td>\n",
       "      <td>US</td>\n",
       "      <td>1958-02-01</td>\n",
       "      <td>AFETR</td>\n",
       "      <td>1970-03-31</td>\n",
       "      <td>88.48</td>\n",
       "      <td>33.15</td>\n",
       "      <td>...</td>\n",
       "      <td>0</td>\n",
       "      <td>NaN</td>\n",
       "      <td>1</td>\n",
       "      <td>1958</td>\n",
       "      <td>1</td>\n",
       "      <td>A</td>\n",
       "      <td>Y</td>\n",
       "      <td>EXPLORER 1</td>\n",
       "      <td>1958-001A</td>\n",
       "      <td>4</td>\n",
       "    </tr>\n",
       "    <tr>\n",
       "      <th>2</th>\n",
       "      <td>1958-003A</td>\n",
       "      <td>6</td>\n",
       "      <td>PAYLOAD</td>\n",
       "      <td>EXPLORER 3</td>\n",
       "      <td>US</td>\n",
       "      <td>1958-03-26</td>\n",
       "      <td>AFETR</td>\n",
       "      <td>1958-06-28</td>\n",
       "      <td>103.60</td>\n",
       "      <td>33.50</td>\n",
       "      <td>...</td>\n",
       "      <td>0</td>\n",
       "      <td>NaN</td>\n",
       "      <td>1</td>\n",
       "      <td>1958</td>\n",
       "      <td>3</td>\n",
       "      <td>A</td>\n",
       "      <td>Y</td>\n",
       "      <td>EXPLORER 3</td>\n",
       "      <td>1958-003A</td>\n",
       "      <td>6</td>\n",
       "    </tr>\n",
       "  </tbody>\n",
       "</table>\n",
       "<p>3 rows × 24 columns</p>\n",
       "</div>"
      ],
      "text/plain": [
       "     INTLDES  NORAD_CAT_ID  OBJECT_TYPE     SATNAME COUNTRY      LAUNCH  \\\n",
       "0  1957-001A             1  ROCKET BODY    SL-1 R/B     CIS  1957-10-04   \n",
       "1  1958-001A             4      PAYLOAD  EXPLORER 1      US  1958-02-01   \n",
       "2  1958-003A             6      PAYLOAD  EXPLORER 3      US  1958-03-26   \n",
       "\n",
       "    SITE       DECAY  PERIOD  INCLINATION  ...  RCSVALUE  RCS_SIZE FILE  \\\n",
       "0  TTMTR  1957-12-01   96.19        65.10  ...         0     LARGE    1   \n",
       "1  AFETR  1970-03-31   88.48        33.15  ...         0       NaN    1   \n",
       "2  AFETR  1958-06-28  103.60        33.50  ...         0       NaN    1   \n",
       "\n",
       "   LAUNCH_YEAR  LAUNCH_NUM LAUNCH_PIECE  CURRENT  OBJECT_NAME  OBJECT_ID  \\\n",
       "0         1957           1            A        Y     SL-1 R/B  1957-001A   \n",
       "1         1958           1            A        Y   EXPLORER 1  1958-001A   \n",
       "2         1958           3            A        Y   EXPLORER 3  1958-003A   \n",
       "\n",
       "  OBJECT_NUMBER  \n",
       "0             1  \n",
       "1             4  \n",
       "2             6  \n",
       "\n",
       "[3 rows x 24 columns]"
      ]
     },
     "execution_count": 3,
     "metadata": {},
     "output_type": "execute_result"
    }
   ],
   "source": [
    "df_satcat.head(3)"
   ]
  },
  {
   "cell_type": "code",
   "execution_count": 4,
   "id": "0f8fc712",
   "metadata": {},
   "outputs": [
    {
     "name": "stdout",
     "output_type": "stream",
     "text": [
      "total objects in catalog:  64011\n"
     ]
    }
   ],
   "source": [
    "print('total objects in catalog: ',df_satcat.shape[0])"
   ]
  },
  {
   "cell_type": "code",
   "execution_count": 5,
   "id": "67be7670",
   "metadata": {},
   "outputs": [
    {
     "data": {
      "text/html": [
       "<div>\n",
       "<style scoped>\n",
       "    .dataframe tbody tr th:only-of-type {\n",
       "        vertical-align: middle;\n",
       "    }\n",
       "\n",
       "    .dataframe tbody tr th {\n",
       "        vertical-align: top;\n",
       "    }\n",
       "\n",
       "    .dataframe thead th {\n",
       "        text-align: right;\n",
       "    }\n",
       "</style>\n",
       "<table border=\"1\" class=\"dataframe\">\n",
       "  <thead>\n",
       "    <tr style=\"text-align: right;\">\n",
       "      <th></th>\n",
       "      <th>NORAD_CAT_ID</th>\n",
       "      <th>PERIOD</th>\n",
       "      <th>INCLINATION</th>\n",
       "      <th>APOGEE</th>\n",
       "      <th>PERIGEE</th>\n",
       "      <th>COMMENTCODE</th>\n",
       "      <th>RCSVALUE</th>\n",
       "      <th>FILE</th>\n",
       "      <th>LAUNCH_YEAR</th>\n",
       "      <th>LAUNCH_NUM</th>\n",
       "      <th>OBJECT_NUMBER</th>\n",
       "    </tr>\n",
       "  </thead>\n",
       "  <tbody>\n",
       "    <tr>\n",
       "      <th>count</th>\n",
       "      <td>64011.000000</td>\n",
       "      <td>63037.000000</td>\n",
       "      <td>63037.000000</td>\n",
       "      <td>63037.000000</td>\n",
       "      <td>63037.000000</td>\n",
       "      <td>3517.000000</td>\n",
       "      <td>64011.0</td>\n",
       "      <td>64011.000000</td>\n",
       "      <td>64011.000000</td>\n",
       "      <td>64011.000000</td>\n",
       "      <td>64011.000000</td>\n",
       "    </tr>\n",
       "    <tr>\n",
       "      <th>mean</th>\n",
       "      <td>32015.650919</td>\n",
       "      <td>178.180192</td>\n",
       "      <td>68.902649</td>\n",
       "      <td>3550.205752</td>\n",
       "      <td>1743.955106</td>\n",
       "      <td>3.291157</td>\n",
       "      <td>0.0</td>\n",
       "      <td>7142.294449</td>\n",
       "      <td>1996.827217</td>\n",
       "      <td>59.018200</td>\n",
       "      <td>32015.650919</td>\n",
       "    </tr>\n",
       "    <tr>\n",
       "      <th>std</th>\n",
       "      <td>18492.265470</td>\n",
       "      <td>690.084959</td>\n",
       "      <td>25.061502</td>\n",
       "      <td>13831.789472</td>\n",
       "      <td>6734.843480</td>\n",
       "      <td>1.409969</td>\n",
       "      <td>0.0</td>\n",
       "      <td>3242.574651</td>\n",
       "      <td>19.517696</td>\n",
       "      <td>42.904259</td>\n",
       "      <td>18492.265470</td>\n",
       "    </tr>\n",
       "    <tr>\n",
       "      <th>min</th>\n",
       "      <td>1.000000</td>\n",
       "      <td>0.000000</td>\n",
       "      <td>0.000000</td>\n",
       "      <td>0.000000</td>\n",
       "      <td>0.000000</td>\n",
       "      <td>1.000000</td>\n",
       "      <td>0.0</td>\n",
       "      <td>1.000000</td>\n",
       "      <td>1957.000000</td>\n",
       "      <td>0.000000</td>\n",
       "      <td>1.000000</td>\n",
       "    </tr>\n",
       "    <tr>\n",
       "      <th>25%</th>\n",
       "      <td>16003.500000</td>\n",
       "      <td>89.260000</td>\n",
       "      <td>53.000000</td>\n",
       "      <td>267.000000</td>\n",
       "      <td>196.000000</td>\n",
       "      <td>3.000000</td>\n",
       "      <td>0.0</td>\n",
       "      <td>7337.000000</td>\n",
       "      <td>1981.000000</td>\n",
       "      <td>25.000000</td>\n",
       "      <td>16003.500000</td>\n",
       "    </tr>\n",
       "    <tr>\n",
       "      <th>50%</th>\n",
       "      <td>32006.000000</td>\n",
       "      <td>94.110000</td>\n",
       "      <td>70.190000</td>\n",
       "      <td>484.000000</td>\n",
       "      <td>409.000000</td>\n",
       "      <td>3.000000</td>\n",
       "      <td>0.0</td>\n",
       "      <td>8690.000000</td>\n",
       "      <td>1995.000000</td>\n",
       "      <td>51.000000</td>\n",
       "      <td>32006.000000</td>\n",
       "    </tr>\n",
       "    <tr>\n",
       "      <th>75%</th>\n",
       "      <td>48008.500000</td>\n",
       "      <td>101.140000</td>\n",
       "      <td>92.000000</td>\n",
       "      <td>878.000000</td>\n",
       "      <td>672.000000</td>\n",
       "      <td>5.000000</td>\n",
       "      <td>0.0</td>\n",
       "      <td>9134.000000</td>\n",
       "      <td>2019.000000</td>\n",
       "      <td>84.000000</td>\n",
       "      <td>48008.500000</td>\n",
       "    </tr>\n",
       "    <tr>\n",
       "      <th>max</th>\n",
       "      <td>64095.000000</td>\n",
       "      <td>95687.680000</td>\n",
       "      <td>152.520000</td>\n",
       "      <td>641287.000000</td>\n",
       "      <td>299435.000000</td>\n",
       "      <td>5.000000</td>\n",
       "      <td>0.0</td>\n",
       "      <td>9138.000000</td>\n",
       "      <td>2025.000000</td>\n",
       "      <td>254.000000</td>\n",
       "      <td>64095.000000</td>\n",
       "    </tr>\n",
       "  </tbody>\n",
       "</table>\n",
       "</div>"
      ],
      "text/plain": [
       "       NORAD_CAT_ID        PERIOD   INCLINATION         APOGEE        PERIGEE  \\\n",
       "count  64011.000000  63037.000000  63037.000000   63037.000000   63037.000000   \n",
       "mean   32015.650919    178.180192     68.902649    3550.205752    1743.955106   \n",
       "std    18492.265470    690.084959     25.061502   13831.789472    6734.843480   \n",
       "min        1.000000      0.000000      0.000000       0.000000       0.000000   \n",
       "25%    16003.500000     89.260000     53.000000     267.000000     196.000000   \n",
       "50%    32006.000000     94.110000     70.190000     484.000000     409.000000   \n",
       "75%    48008.500000    101.140000     92.000000     878.000000     672.000000   \n",
       "max    64095.000000  95687.680000    152.520000  641287.000000  299435.000000   \n",
       "\n",
       "       COMMENTCODE  RCSVALUE          FILE   LAUNCH_YEAR    LAUNCH_NUM  \\\n",
       "count  3517.000000   64011.0  64011.000000  64011.000000  64011.000000   \n",
       "mean      3.291157       0.0   7142.294449   1996.827217     59.018200   \n",
       "std       1.409969       0.0   3242.574651     19.517696     42.904259   \n",
       "min       1.000000       0.0      1.000000   1957.000000      0.000000   \n",
       "25%       3.000000       0.0   7337.000000   1981.000000     25.000000   \n",
       "50%       3.000000       0.0   8690.000000   1995.000000     51.000000   \n",
       "75%       5.000000       0.0   9134.000000   2019.000000     84.000000   \n",
       "max       5.000000       0.0   9138.000000   2025.000000    254.000000   \n",
       "\n",
       "       OBJECT_NUMBER  \n",
       "count   64011.000000  \n",
       "mean    32015.650919  \n",
       "std     18492.265470  \n",
       "min         1.000000  \n",
       "25%     16003.500000  \n",
       "50%     32006.000000  \n",
       "75%     48008.500000  \n",
       "max     64095.000000  "
      ]
     },
     "execution_count": 5,
     "metadata": {},
     "output_type": "execute_result"
    }
   ],
   "source": [
    "df_satcat.describe() "
   ]
  },
  {
   "cell_type": "markdown",
   "id": "989b5372",
   "metadata": {},
   "source": [
    "---\n",
    "### Categorical variables\n",
    "---"
   ]
  },
  {
   "cell_type": "markdown",
   "id": "9ebf4b8e",
   "metadata": {},
   "source": [
    "#### Summary of Findings\n",
    "\n",
    "1. `INTLDES`/`OBJECT_ID`, `NORAD_CAT_ID`/`OBJECT_NUMBER`, and `SATNAME`/`OBJECT_NAME` are redundant pairs\n",
    "\n",
    "2. `LAUNCH_PIECE` contains nan values\n",
    "\n",
    "3. `SATNAME`/`OBJECT_NAME` contain duplicate strings.  "
   ]
  },
  {
   "cell_type": "code",
   "execution_count": 6,
   "id": "9de6e888",
   "metadata": {},
   "outputs": [],
   "source": [
    "features_cat = ['INTLDES', 'NORAD_CAT_ID', 'OBJECT_TYPE', 'SATNAME', 'COUNTRY',\n",
    "       'LAUNCH', 'SITE', 'DECAY','COMMENT', 'COMMENTCODE', 'RCSVALUE', 'RCS_SIZE', 'FILE', 'LAUNCH_YEAR',\n",
    "       'LAUNCH_NUM', 'LAUNCH_PIECE', 'CURRENT', 'OBJECT_NAME', 'OBJECT_ID',\n",
    "       'OBJECT_NUMBER']"
   ]
  },
  {
   "cell_type": "markdown",
   "id": "72c68bd8",
   "metadata": {},
   "source": [
    "#### i. Object Identifiers\n",
    "\n",
    "We have several fields that can be usued to identify objects (`INTLDES`, `NORAD_CAT_ID`, `SATNAME`, `LAUNCH_YEAR`, `LAUNCH_NUM, LAUNCH_PIECE`, `OBJECT_NAME`, `OBJECT_ID`). In this subsection we will answer basic questions about these fields as well as learn more about the data. "
   ]
  },
  {
   "cell_type": "markdown",
   "id": "0fddb012",
   "metadata": {},
   "source": [
    "**Q: Are `INTLDES` and `OBJECT_ID` always identical/redundant? Is either ever null? Is each row unique?** \n",
    "\n",
    "**A: Yes, they appear to be identical; No, neither are ever null; No duplicates** "
   ]
  },
  {
   "cell_type": "code",
   "execution_count": 7,
   "id": "a26fb8e4",
   "metadata": {},
   "outputs": [
    {
     "name": "stdout",
     "output_type": "stream",
     "text": [
      "number of rows that differ: 0\n",
      "number null: 0\n",
      "number of duplicates 0\n"
     ]
    }
   ],
   "source": [
    "print('number of rows that differ:', len(df_satcat[~(df_satcat['INTLDES']==df_satcat['OBJECT_ID'])]))\n",
    "print('number null:', len(df_satcat[df_satcat['INTLDES'].isna()]))\n",
    "print('number of duplicates', (df_satcat['INTLDES'].duplicated()).sum())"
   ]
  },
  {
   "cell_type": "markdown",
   "id": "76e38ec5",
   "metadata": {},
   "source": [
    "**Q: Are `NORAD_CAT_ID` and `OBJECT_NUMBER` always identical/redundant? Is either ever null? Is each row unique?** \n",
    "\n",
    "**A: Yes, they appear to be identical; No, neither are ever null; No Duplicates.** "
   ]
  },
  {
   "cell_type": "code",
   "execution_count": 8,
   "id": "bbd4cb3d",
   "metadata": {},
   "outputs": [
    {
     "name": "stdout",
     "output_type": "stream",
     "text": [
      "number of rows that differ: 0\n",
      "number null: 0\n",
      "number of duplicates 0\n"
     ]
    }
   ],
   "source": [
    "print('number of rows that differ:', len(df_satcat[~(df_satcat['NORAD_CAT_ID']==df_satcat['OBJECT_NUMBER'])]))\n",
    "print('number null:', len(df_satcat[df_satcat['NORAD_CAT_ID'].isna()]))\n",
    "print('number of duplicates', (df_satcat['NORAD_CAT_ID'].duplicated()).sum())"
   ]
  },
  {
   "cell_type": "markdown",
   "id": "e579693c",
   "metadata": {},
   "source": [
    "**Q: Are `SATNAME` and `OBJECT_NAME` always identical/redundant? Is either ever null? Is each row unique?** \n",
    "\n",
    "**A: Yes, they appear to be identical; No, neither are ever null;** \n",
    "**Yes, there are duplicates so you can't use this field as an ID; debris and rocketbodies for a payload will not be reliably unique.**"
   ]
  },
  {
   "cell_type": "code",
   "execution_count": 9,
   "id": "2eb79573",
   "metadata": {},
   "outputs": [
    {
     "name": "stdout",
     "output_type": "stream",
     "text": [
      "number of rows that differ: 0\n",
      "number null: 0\n",
      "number of duplicates 41064\n"
     ]
    }
   ],
   "source": [
    "print('number of rows that differ:', len(df_satcat[~(df_satcat['SATNAME']==df_satcat['OBJECT_NAME'])]))\n",
    "print('number null:', len(df_satcat[df_satcat['SATNAME'].isna()]))\n",
    "print('number of duplicates', (df_satcat['SATNAME'].duplicated()).sum())"
   ]
  },
  {
   "cell_type": "code",
   "execution_count": 10,
   "id": "8322a851",
   "metadata": {},
   "outputs": [
    {
     "data": {
      "text/plain": [
       "SATNAME\n",
       "FENGYUN 1C DEB        3475\n",
       "COSMOS 1408 DEB       1806\n",
       "DELTA 1 DEB           1800\n",
       "COSMOS 2251 DEB       1714\n",
       "CZ-6A DEB             1461\n",
       "                      ... \n",
       "THOR BURNER 2A R/B       2\n",
       "COSMOS 443 DEB           2\n",
       "OPS 3559                 2\n",
       "DISCOVERER 32 DEB        2\n",
       "COSMOS 490 DEB           2\n",
       "Name: count, Length: 1396, dtype: int64"
      ]
     },
     "execution_count": 10,
     "metadata": {},
     "output_type": "execute_result"
    }
   ],
   "source": [
    "# sneak peak at duplicate names\n",
    "df_satcat['SATNAME'].value_counts()[lambda x: x > 1]"
   ]
  },
  {
   "cell_type": "code",
   "execution_count": 11,
   "id": "4fd5ec8c",
   "metadata": {},
   "outputs": [
    {
     "data": {
      "text/plain": [
       "SATNAME\n",
       "SL-6 PLAT           289\n",
       "SL-12 PLAT          232\n",
       "WESTFORD NEEDLES    145\n",
       "OBJECT B             86\n",
       "OBJECT C             81\n",
       "                   ... \n",
       "OPS 3722              2\n",
       "PACE                  2\n",
       "FTV 1154              2\n",
       "PAYLOAD B             2\n",
       "OPS 3559              2\n",
       "Name: count, Length: 94, dtype: int64"
      ]
     },
     "execution_count": 11,
     "metadata": {},
     "output_type": "execute_result"
    }
   ],
   "source": [
    "# sneak peak at duplicate names (no DEB/R/B)\n",
    "df_satcat['SATNAME'].value_counts()[lambda x: (x > 1) & ~x.index.str.contains('DEB|R/B', regex=True)]"
   ]
  },
  {
   "cell_type": "markdown",
   "id": "610a3e04",
   "metadata": {},
   "source": [
    "**Q: Can use use `LAUNCH_YEAR`, `LAUNCH_NUM`, and `LAUNCH_PIECE` to reconstruct `INTLDES`/`OBJECT_ID`?**\n",
    "\n",
    "**A: Yes but you have (1) make sure your launch number is padded with zeros (e.g.: 001, 011, 111) and (2) replace NaN launch pieces with 'NA'**"
   ]
  },
  {
   "cell_type": "code",
   "execution_count": 12,
   "id": "5f5c4853",
   "metadata": {},
   "outputs": [
    {
     "name": "stdout",
     "output_type": "stream",
     "text": [
      "number of rows that differ: 0\n"
     ]
    }
   ],
   "source": [
    "df_satcat['LAUNCH_NUM_padded'] = df_satcat['LAUNCH_NUM'].astype(str).str.pad(width=3, side='left', fillchar='0')\n",
    "df_satcat['LAUNCH_PIECE_no_nan'] = df_satcat['LAUNCH_PIECE'].fillna('NA')\n",
    "df_satcat['INTLDES_reconstructed'] = (df_satcat['LAUNCH_YEAR'].astype(str) + '-' +df_satcat['LAUNCH_NUM_padded'].astype(str) +df_satcat['LAUNCH_PIECE_no_nan'].astype(str))\n",
    "\n",
    "print('number of rows that differ:', len(df_satcat[~(df_satcat['INTLDES']==df_satcat['INTLDES_reconstructed'])]))"
   ]
  },
  {
   "cell_type": "markdown",
   "id": "1e442535",
   "metadata": {},
   "source": [
    "**Q: Are there any trends in the objects with an undefined `LAUNCH_PIECE` field?**\n",
    "\n",
    "**A: Yes,**\n",
    "\n",
    "1. Most are Debris\n",
    "\n",
    "2. Are all LEO (see `PERIOD`)\n",
    "\n",
    "3. almost half have decayed"
   ]
  },
  {
   "cell_type": "code",
   "execution_count": 13,
   "id": "b19b395b",
   "metadata": {},
   "outputs": [
    {
     "name": "stdout",
     "output_type": "stream",
     "text": [
      "Number of objects with no launch piece: 19\n"
     ]
    }
   ],
   "source": [
    "df_satcat['IS_DECAYED'] = df_satcat['DECAY'].isna()\n",
    "null_lp = df_satcat[df_satcat['LAUNCH_PIECE'].isna()]\n",
    "print(\"Number of objects with no launch piece:\", len(null_lp))"
   ]
  },
  {
   "cell_type": "code",
   "execution_count": 14,
   "id": "4607fcd2",
   "metadata": {},
   "outputs": [
    {
     "data": {
      "image/png": "[encoded data removed]",
      "text/plain": [
       "<Figure size 1800x1000 with 6 Axes>"
      ]
     },
     "metadata": {},
     "output_type": "display_data"
    }
   ],
   "source": [
    "fig, axes = plt.subplots(2, 3, figsize=(18, 10))\n",
    "\n",
    "null_lp['OBJECT_TYPE'].value_counts().plot.bar(ax=axes[0, 0], title='Count by Type')\n",
    "axes[0, 0].set_xticklabels(axes[0, 0].get_xticklabels(), rotation=0)\n",
    "\n",
    "null_lp['IS_DECAYED'].value_counts().plot.bar(ax=axes[0, 1], title='Has Object Decayed?')\n",
    "axes[0, 1].set_xticklabels(axes[0, 1].get_xticklabels(), rotation=0)\n",
    "\n",
    "null_lp['PERIOD'].plot.hist(bins=20, ax=axes[0, 2], title='Distribution of Orbital Period in Mins')\n",
    "null_lp['LAUNCH_YEAR'].plot.hist(bins=15, ax=axes[1, 0], title='Distribution of Launch Years')\n",
    "null_lp['SITE'].value_counts().plot.bar(ax=axes[1, 1], title='Sites')\n",
    "null_lp['COUNTRY'].value_counts().plot.bar(ax=axes[1, 2], title='Countries')\n",
    "\n",
    "plt.tight_layout()\n",
    "for ax in axes.flatten():\n",
    "    ax.set_xlabel('')  \n",
    "    ax.set_ylabel('Count')"
   ]
  },
  {
   "cell_type": "markdown",
   "id": "e031d882",
   "metadata": {},
   "source": [
    "---\n",
    "### Numerical Variables\n",
    "---"
   ]
  }
 ],
 "metadata": {
  "kernelspec": {
   "display_name": "venv",
   "language": "python",
   "name": "python3"
  },
  "language_info": {
   "codemirror_mode": {
    "name": "ipython",
    "version": 3
   },
   "file_extension": ".py",
   "mimetype": "text/x-python",
   "name": "python",
   "nbconvert_exporter": "python",
   "pygments_lexer": "ipython3",
   "version": "3.12.4"
  }
 },
 "nbformat": 4,
 "nbformat_minor": 5
}
